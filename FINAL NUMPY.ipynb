{
 "cells": [
  {
   "cell_type": "code",
   "execution_count": 4,
   "id": "98ad5a47",
   "metadata": {},
   "outputs": [
    {
     "name": "stdout",
     "output_type": "stream",
     "text": [
      "[1 2 3 4]\n"
     ]
    }
   ],
   "source": [
    "import numpy as np      #accessing numpy\n",
    "list=[1,2,3,4]\n",
    "array=np.array(list)    #converting python list to numpy array\n",
    "print(array)"
   ]
  },
  {
   "cell_type": "code",
   "execution_count": 10,
   "id": "bbb9434c",
   "metadata": {},
   "outputs": [
    {
     "name": "stdout",
     "output_type": "stream",
     "text": [
      "[2 3 4]\n"
     ]
    }
   ],
   "source": [
    "x=np.array([2,3,4])\n",
    "print(x)"
   ]
  },
  {
   "cell_type": "code",
   "execution_count": 5,
   "id": "6888b560",
   "metadata": {},
   "outputs": [
    {
     "data": {
      "text/plain": [
       "array([1, 2, 3, 4])"
      ]
     },
     "execution_count": 5,
     "metadata": {},
     "output_type": "execute_result"
    }
   ],
   "source": [
    "array      #different from 'printing' array: comma separated elements"
   ]
  },
  {
   "cell_type": "code",
   "execution_count": 2,
   "id": "1c9f02ac",
   "metadata": {},
   "outputs": [
    {
     "name": "stdout",
     "output_type": "stream",
     "text": [
      "1\n"
     ]
    }
   ],
   "source": [
    "import numpy as np\n",
    "array=np.array([1,2,3])    #np.ndim - gives the dimension of array\n",
    "print(array.ndim)"
   ]
  },
  {
   "cell_type": "code",
   "execution_count": 3,
   "id": "24037156",
   "metadata": {},
   "outputs": [
    {
     "name": "stdout",
     "output_type": "stream",
     "text": [
      "4\n"
     ]
    }
   ],
   "source": [
    "print(array.itemsize)     #prints size of the datatype of each element in bytes"
   ]
  },
  {
   "cell_type": "code",
   "execution_count": 6,
   "id": "15ee3519",
   "metadata": {},
   "outputs": [
    {
     "name": "stdout",
     "output_type": "stream",
     "text": [
      "12\n"
     ]
    }
   ],
   "source": [
    "print(array.nbytes)      #np.nbytes - itemsize*no of elements"
   ]
  },
  {
   "cell_type": "code",
   "execution_count": 9,
   "id": "c2bfc5ea",
   "metadata": {},
   "outputs": [
    {
     "name": "stdout",
     "output_type": "stream",
     "text": [
      "4\n"
     ]
    }
   ],
   "source": [
    "a=np.array([[1,2,3],[3,4,5]])\n",
    "print(a[1,1])                   #to get a specific element: np.array(row,col) - they start from 0"
   ]
  },
  {
   "cell_type": "code",
   "execution_count": 10,
   "id": "64c2e007",
   "metadata": {},
   "outputs": [
    {
     "name": "stdout",
     "output_type": "stream",
     "text": [
      "[2 4]\n"
     ]
    }
   ],
   "source": [
    "print(a[:,1])   #to get a column"
   ]
  },
  {
   "cell_type": "code",
   "execution_count": 11,
   "id": "7fbe1798",
   "metadata": {},
   "outputs": [
    {
     "name": "stdout",
     "output_type": "stream",
     "text": [
      "[3 4 5]\n"
     ]
    }
   ],
   "source": [
    "print(a[1,:])   #to get a row"
   ]
  },
  {
   "cell_type": "code",
   "execution_count": 12,
   "id": "194acfc8",
   "metadata": {},
   "outputs": [
    {
     "name": "stdout",
     "output_type": "stream",
     "text": [
      "[[3 2 5]\n",
      " [1 4 5]]\n"
     ]
    }
   ],
   "source": [
    "a[0,2]=5\n",
    "a[:,0]=[3,1]    \n",
    "print(a)"
   ]
  },
  {
   "cell_type": "code",
   "execution_count": 6,
   "id": "7948e7c7",
   "metadata": {},
   "outputs": [
    {
     "name": "stdout",
     "output_type": "stream",
     "text": [
      "[11 12 13 14]\n"
     ]
    }
   ],
   "source": [
    "a=array+10    #performing arithmetic operations on array elements\n",
    "print(a)"
   ]
  },
  {
   "cell_type": "code",
   "execution_count": 8,
   "id": "685ba984",
   "metadata": {},
   "outputs": [
    {
     "name": "stdout",
     "output_type": "stream",
     "text": [
      "[2 4 6 8]\n"
     ]
    }
   ],
   "source": [
    "b=array*2\n",
    "print(b)"
   ]
  },
  {
   "cell_type": "code",
   "execution_count": 9,
   "id": "f6159a53",
   "metadata": {},
   "outputs": [
    {
     "name": "stdout",
     "output_type": "stream",
     "text": [
      "[-4 -3 -2 -1]\n"
     ]
    }
   ],
   "source": [
    "c=array-5\n",
    "print(c)"
   ]
  },
  {
   "cell_type": "code",
   "execution_count": 11,
   "id": "2f9625cf",
   "metadata": {},
   "outputs": [
    {
     "name": "stdout",
     "output_type": "stream",
     "text": [
      "[[1 2 3]\n",
      " [4 5 6]]\n"
     ]
    }
   ],
   "source": [
    "two_dimension_list=([1,2,3],            #two dimension array\n",
    "                    [4,5,6])\n",
    "print(np.array(two_dimension_list))"
   ]
  },
  {
   "cell_type": "code",
   "execution_count": 12,
   "id": "f6cc8146",
   "metadata": {},
   "outputs": [
    {
     "name": "stdout",
     "output_type": "stream",
     "text": [
      "[[1 2]\n",
      " [3 4]\n",
      " [5 6]]\n"
     ]
    }
   ],
   "source": [
    "three_dimension_list=([1,2],           #three dimension array\n",
    "                       [3,4],\n",
    "                       [5,6])\n",
    "print(np.array(three_dimension_list))\n",
    "                      "
   ]
  },
  {
   "cell_type": "code",
   "execution_count": 13,
   "id": "ff06a8f8",
   "metadata": {},
   "outputs": [
    {
     "name": "stdout",
     "output_type": "stream",
     "text": [
      "(4,)\n"
     ]
    }
   ],
   "source": [
    "shape1=array.shape     #shape of the array \n",
    "                       #if one dimension then 'shape' prints its length(no of elements)\n",
    "print(shape)"
   ]
  },
  {
   "cell_type": "code",
   "execution_count": 17,
   "id": "924bf612",
   "metadata": {},
   "outputs": [
    {
     "name": "stdout",
     "output_type": "stream",
     "text": [
      "(2, 3)\n"
     ]
    }
   ],
   "source": [
    "a=([1,2,3],\n",
    "   [4,5,6])           #shape-if 2 dimension, then it prints: no of rows,no of elements in each row\n",
    "b=np.array(a)\n",
    "shape1=b.shape\n",
    "print(shape1)\n",
    "   \n"
   ]
  },
  {
   "cell_type": "code",
   "execution_count": 18,
   "id": "2af2b8e1",
   "metadata": {},
   "outputs": [
    {
     "name": "stdout",
     "output_type": "stream",
     "text": [
      "(2,)\n"
     ]
    },
    {
     "name": "stderr",
     "output_type": "stream",
     "text": [
      "<ipython-input-18-d38664508096>:3: VisibleDeprecationWarning: Creating an ndarray from ragged nested sequences (which is a list-or-tuple of lists-or-tuples-or ndarrays with different lengths or shapes) is deprecated. If you meant to do this, you must specify 'dtype=object' when creating the ndarray.\n",
      "  b=np.array(a)\n"
     ]
    }
   ],
   "source": [
    "a=([1,3,4],\n",
    "   [6,7,8,9])      #shape-if multi-dimensioned with unequal no of elements: consider array as on object(?)\n",
    "b=np.array(a)\n",
    "shape=b.shape\n",
    "print(shape)\n"
   ]
  },
  {
   "cell_type": "code",
   "execution_count": 19,
   "id": "999fe6b1",
   "metadata": {},
   "outputs": [
    {
     "name": "stdout",
     "output_type": "stream",
     "text": [
      "(3, 2)\n"
     ]
    }
   ],
   "source": [
    "a=([1,2],\n",
    "   [3,4],\n",
    "   [5,6])\n",
    "b=np.array(a)\n",
    "shape=b.shape          #shape for 3 dimensional array\n",
    "print(shape)\n"
   ]
  },
  {
   "cell_type": "code",
   "execution_count": 32,
   "id": "419cb4e2",
   "metadata": {},
   "outputs": [
    {
     "name": "stdout",
     "output_type": "stream",
     "text": [
      "float64\n"
     ]
    }
   ],
   "source": [
    "a=([1.0,2.4,3.2],\n",
    "   [5.6,7.8,9.0])\n",
    "\n",
    "b=np.array(a)\n",
    "data_type=b.dtype\n",
    "print(data_type)     #dtype-specifies datatype "
   ]
  },
  {
   "cell_type": "code",
   "execution_count": 13,
   "id": "7c33e7c0",
   "metadata": {},
   "outputs": [
    {
     "name": "stdout",
     "output_type": "stream",
     "text": [
      "[[[ 1  2  3]\n",
      "  [ 4  5  6]]\n",
      "\n",
      " [[ 7  8  9]\n",
      "  [10 11 12]]]\n",
      "(2, 2, 3)\n",
      "int32\n"
     ]
    }
   ],
   "source": [
    "import numpy as np\n",
    "a = np.array([\n",
    "    [[1, 2,3],\n",
    "        [4, 5, 6]],\n",
    "    [[7, 8,9],\n",
    "        [10, 11, 12]]            #3 dimension array-nested 3 arrays\n",
    "])\n",
    "print(a)\n",
    "print(a.shape) #no of layers, no of rows in each layer, no of columns in each layer\n",
    "print(a.dtype) "
   ]
  },
  {
   "cell_type": "code",
   "execution_count": 14,
   "id": "fc237e10",
   "metadata": {},
   "outputs": [
    {
     "name": "stdout",
     "output_type": "stream",
     "text": [
      "[[0. 0.]\n",
      " [0. 0.]]\n"
     ]
    }
   ],
   "source": [
    "import numpy as np\n",
    "a=np.zeros((2,2))       #if datatype not specified: taken as float\n",
    "print(a)\n"
   ]
  },
  {
   "cell_type": "code",
   "execution_count": 19,
   "id": "82e08620",
   "metadata": {},
   "outputs": [
    {
     "name": "stdout",
     "output_type": "stream",
     "text": [
      "[[0 0]\n",
      " [0 0]]\n"
     ]
    }
   ],
   "source": [
    "import numpy as np\n",
    "a=np.zeros((2,2),dtype=np.int16)   #dtype specified\n",
    "print(a)"
   ]
  },
  {
   "cell_type": "code",
   "execution_count": 22,
   "id": "51826bf5",
   "metadata": {},
   "outputs": [
    {
     "name": "stdout",
     "output_type": "stream",
     "text": [
      "[[1. 1.]\n",
      " [1. 1.]\n",
      " [1. 1.]]\n"
     ]
    }
   ],
   "source": [
    "import numpy as np\n",
    "a=np.ones((3,2),dtype=np.float32)      #np.ones(rows,columns)\n",
    "print(a)"
   ]
  },
  {
   "cell_type": "code",
   "execution_count": 23,
   "id": "b64b3425",
   "metadata": {},
   "outputs": [
    {
     "name": "stdout",
     "output_type": "stream",
     "text": [
      "(3, 2)\n",
      "float32\n"
     ]
    }
   ],
   "source": [
    "print(a.shape)\n",
    "print(a.dtype)"
   ]
  },
  {
   "cell_type": "code",
   "execution_count": 16,
   "id": "9f265e29",
   "metadata": {},
   "outputs": [
    {
     "name": "stdout",
     "output_type": "stream",
     "text": [
      "[[36 36]\n",
      " [36 36]]\n"
     ]
    }
   ],
   "source": [
    "import numpy as np\n",
    "print(np.full([2,2],36))    #to make an array with all same elements:np.full(shape,value)"
   ]
  },
  {
   "cell_type": "code",
   "execution_count": 28,
   "id": "00dd5eeb",
   "metadata": {},
   "outputs": [
    {
     "name": "stdout",
     "output_type": "stream",
     "text": [
      "[[1 2]\n",
      " [3 4]\n",
      " [5 6]]\n"
     ]
    }
   ],
   "source": [
    "import numpy as np\n",
    "a=([1,2,3],\n",
    "   [4,5,6])\n",
    "b=np.array(a)\n",
    "c=b.reshape(3,2)           #transpose(give parameters accordingly)\n",
    "print(c)"
   ]
  },
  {
   "cell_type": "code",
   "execution_count": 17,
   "id": "a73caee0",
   "metadata": {},
   "outputs": [
    {
     "name": "stdout",
     "output_type": "stream",
     "text": [
      "[[4 4 4]\n",
      " [4 4 4]]\n"
     ]
    }
   ],
   "source": [
    "print(np.full_like(a,4))     #np.full_like : makes an array with same shape as mentioned"
   ]
  },
  {
   "cell_type": "code",
   "execution_count": 29,
   "id": "50c242ed",
   "metadata": {},
   "outputs": [
    {
     "data": {
      "text/plain": [
       "array([1, 2, 3, 4, 5, 6])"
      ]
     },
     "execution_count": 29,
     "metadata": {},
     "output_type": "execute_result"
    }
   ],
   "source": [
    "b.flatten()       #flattened 2 dimensional array"
   ]
  },
  {
   "cell_type": "code",
   "execution_count": 36,
   "id": "729aa44d",
   "metadata": {},
   "outputs": [
    {
     "name": "stdout",
     "output_type": "stream",
     "text": [
      "[1 2 3 4 5 6]\n"
     ]
    }
   ],
   "source": [
    "import numpy as np\n",
    "a=np.array([1,2,3])\n",
    "b=np.array([4,5,6])\n",
    "c=np.hstack((a,b))       #stacks 2 separate arrays horizontally\n",
    "print(c)\n"
   ]
  },
  {
   "cell_type": "code",
   "execution_count": 34,
   "id": "a9fee765",
   "metadata": {},
   "outputs": [
    {
     "name": "stdout",
     "output_type": "stream",
     "text": [
      "[[1 2 3]\n",
      " [4 5 6]]\n"
     ]
    }
   ],
   "source": [
    "d=np.vstack((a,b))\n",
    "print(d)"
   ]
  },
  {
   "cell_type": "code",
   "execution_count": 37,
   "id": "bcfdba77",
   "metadata": {},
   "outputs": [],
   "source": [
    "#np.random.normal(loc,scale,size)\n"
   ]
  },
  {
   "cell_type": "code",
   "execution_count": 38,
   "id": "43c934eb",
   "metadata": {},
   "outputs": [
    {
     "name": "stdout",
     "output_type": "stream",
     "text": [
      "[1 2 3 4]\n"
     ]
    }
   ],
   "source": [
    "import numpy as np\n",
    "a=np.arange(1,5)          #np.arrange(starting,end,difference between consecutive elements(default-1))\n",
    "print(a)"
   ]
  },
  {
   "cell_type": "code",
   "execution_count": 39,
   "id": "f5a1f6e6",
   "metadata": {},
   "outputs": [
    {
     "name": "stdout",
     "output_type": "stream",
     "text": [
      "[ 5 10 15 20]\n"
     ]
    }
   ],
   "source": [
    "a=np.arange(5,21,5)  \n",
    "print(a)"
   ]
  },
  {
   "cell_type": "code",
   "execution_count": 41,
   "id": "7da54952",
   "metadata": {},
   "outputs": [
    {
     "name": "stdout",
     "output_type": "stream",
     "text": [
      "[1. 2. 3. 4. 5.]\n"
     ]
    }
   ],
   "source": [
    "import numpy as np\n",
    "a=np.linspace(1,5,num=5,endpoint=True)       #np.linspace(starting no, end num, nums needed in sample, endpoint to be included or not)-evenly spaced sample\n",
    "print(a)"
   ]
  },
  {
   "cell_type": "code",
   "execution_count": 45,
   "id": "728e58a6",
   "metadata": {},
   "outputs": [
    {
     "name": "stdout",
     "output_type": "stream",
     "text": [
      "[ 2.          2.42105263  2.84210526  3.26315789  3.68421053  4.10526316\n",
      "  4.52631579  4.94736842  5.36842105  5.78947368  6.21052632  6.63157895\n",
      "  7.05263158  7.47368421  7.89473684  8.31578947  8.73684211  9.15789474\n",
      "  9.57894737 10.        ]\n"
     ]
    }
   ],
   "source": [
    "a=np.linspace(2.0,10.0,num=20)       #if endpoint not mentioned, endpoint=True\n",
    "print(a)"
   ]
  },
  {
   "cell_type": "code",
   "execution_count": 47,
   "id": "df4aadf9",
   "metadata": {},
   "outputs": [
    {
     "name": "stdout",
     "output_type": "stream",
     "text": [
      "[ 100. 1000.]\n"
     ]
    }
   ],
   "source": [
    "import numpy as np\n",
    "a=np.logspace(2.0,3.0,num=2)         #np.logspace:same as linspace-but log values\n",
    "print(a)"
   ]
  },
  {
   "cell_type": "code",
   "execution_count": 48,
   "id": "ad9dad10",
   "metadata": {},
   "outputs": [],
   "source": [
    "###SLICING"
   ]
  },
  {
   "cell_type": "code",
   "execution_count": 49,
   "id": "aa48c4be",
   "metadata": {},
   "outputs": [
    {
     "name": "stdout",
     "output_type": "stream",
     "text": [
      "[1, 2, 3]\n"
     ]
    }
   ],
   "source": [
    "import numpy as np\n",
    "a=([1,2,3],\n",
    "   [4,5,6],\n",
    "   [7,8,9])  #slicing rows(starts from 0)\n",
    "b=a[0]\n",
    "print(b)\n"
   ]
  },
  {
   "cell_type": "code",
   "execution_count": 50,
   "id": "899ec7d5",
   "metadata": {},
   "outputs": [
    {
     "name": "stdout",
     "output_type": "stream",
     "text": [
      "[4, 5, 6]\n"
     ]
    }
   ],
   "source": [
    "b=a[1]\n",
    "print(b)"
   ]
  },
  {
   "cell_type": "code",
   "execution_count": 51,
   "id": "4e41e27a",
   "metadata": {},
   "outputs": [
    {
     "name": "stdout",
     "output_type": "stream",
     "text": [
      "[7, 8, 9]\n"
     ]
    }
   ],
   "source": [
    "c=a[2]\n",
    "print(c)"
   ]
  },
  {
   "cell_type": "code",
   "execution_count": 60,
   "id": "ca5b332d",
   "metadata": {},
   "outputs": [
    {
     "ename": "TypeError",
     "evalue": "tuple indices must be integers or slices, not tuple",
     "output_type": "error",
     "traceback": [
      "\u001b[1;31m---------------------------------------------------------------------------\u001b[0m",
      "\u001b[1;31mTypeError\u001b[0m                                 Traceback (most recent call last)",
      "\u001b[1;32m<ipython-input-60-ae705bd43f6a>\u001b[0m in \u001b[0;36m<module>\u001b[1;34m\u001b[0m\n\u001b[0;32m      3\u001b[0m    \u001b[1;33m[\u001b[0m\u001b[1;36m4\u001b[0m\u001b[1;33m,\u001b[0m\u001b[1;36m5\u001b[0m\u001b[1;33m,\u001b[0m\u001b[1;36m6\u001b[0m\u001b[1;33m]\u001b[0m\u001b[1;33m,\u001b[0m\u001b[1;33m\u001b[0m\u001b[1;33m\u001b[0m\u001b[0m\n\u001b[0;32m      4\u001b[0m    [7,8,9])\n\u001b[1;32m----> 5\u001b[1;33m \u001b[0mb\u001b[0m\u001b[1;33m=\u001b[0m\u001b[1;33m(\u001b[0m\u001b[0ma\u001b[0m\u001b[1;33m[\u001b[0m\u001b[1;36m1\u001b[0m\u001b[1;33m,\u001b[0m\u001b[1;33m:\u001b[0m\u001b[1;36m2\u001b[0m\u001b[1;33m]\u001b[0m\u001b[1;33m)\u001b[0m\u001b[1;33m\u001b[0m\u001b[1;33m\u001b[0m\u001b[0m\n\u001b[0m\u001b[0;32m      6\u001b[0m \u001b[0mprint\u001b[0m\u001b[1;33m(\u001b[0m\u001b[0mb\u001b[0m\u001b[1;33m)\u001b[0m\u001b[1;33m\u001b[0m\u001b[1;33m\u001b[0m\u001b[0m\n",
      "\u001b[1;31mTypeError\u001b[0m: tuple indices must be integers or slices, not tuple"
     ]
    }
   ],
   "source": [
    "import numpy as np\n",
    "a=([1,2,3],\n",
    "   [4,5,6],\n",
    "   [7,8,9])\n",
    "b=(a[1,:2])\n",
    "print(b)"
   ]
  },
  {
   "cell_type": "code",
   "execution_count": 1,
   "id": "576531e8",
   "metadata": {},
   "outputs": [
    {
     "name": "stdout",
     "output_type": "stream",
     "text": [
      "[11.22586673 10.29486437  9.54672599  9.45521635 12.58673624  9.06504918\n",
      " 10.49692691 10.34453106  9.06128514 10.58753023]\n"
     ]
    }
   ],
   "source": [
    "#Creating a random gaussian distribution\n",
    "import numpy as np\n",
    "array=np.random.normal(10,1,10)           #np.random.normal(loc,scale,size)\n",
    "print(array)"
   ]
  },
  {
   "cell_type": "code",
   "execution_count": 2,
   "id": "975f5586",
   "metadata": {},
   "outputs": [
    {
     "name": "stdout",
     "output_type": "stream",
     "text": [
      "9.061285144616093\n",
      "12.586736236002503\n",
      "10.266473219649308\n",
      "10.319697711614495\n",
      "1.0266067288640408\n"
     ]
    }
   ],
   "source": [
    "#statistical functions \n",
    "print(np.min(array))\n",
    "print(np.max(array))\n",
    "print(np.mean(array))\n",
    "print(np.median(array))\n",
    "print(np.std(array))\n"
   ]
  },
  {
   "cell_type": "code",
   "execution_count": 3,
   "id": "6cfe89a5",
   "metadata": {},
   "outputs": [
    {
     "name": "stdout",
     "output_type": "stream",
     "text": [
      "32\n"
     ]
    }
   ],
   "source": [
    "import numpy as np\n",
    "a=np.array([1,2,3])      #dot product of two 1D arrays-np.dot()\n",
    "b=np.array([4,5,6])\n",
    "dot_product=np.dot(a,b)\n",
    "print(dot_product)"
   ]
  },
  {
   "cell_type": "code",
   "execution_count": 8,
   "id": "d8e3e1f9",
   "metadata": {},
   "outputs": [
    {
     "name": "stdout",
     "output_type": "stream",
     "text": [
      "[[15 12]\n",
      " [42 33]]\n"
     ]
    }
   ],
   "source": [
    "a=[[1,2],[4,5]]\n",
    "b=[[3,2],[6,5]]\n",
    "matrix_product=np.matmul(a,b)     #np.matmul()-performs matrix multiplication\n",
    "print(matrix_product)"
   ]
  },
  {
   "cell_type": "code",
   "execution_count": 9,
   "id": "eff53ab2",
   "metadata": {},
   "outputs": [
    {
     "name": "stdout",
     "output_type": "stream",
     "text": [
      "[[1 2]\n",
      " [3 4]]\n",
      "Determinant: -2.0000000000000004\n",
      "inverse: [[-2.   1. ]\n",
      " [ 1.5 -0.5]]\n",
      "Rank: 2\n",
      "Eigen values & eigen vectors: [-0.37228132  5.37228132] [[-0.82456484 -0.41597356]\n",
      " [ 0.56576746 -0.90937671]]\n",
      "Diagonal of matrix: [1 4]\n",
      "Transpose of matrix [[1 3]\n",
      " [2 4]]\n",
      "Trace of matrix 5\n"
     ]
    }
   ],
   "source": [
    "matrix=np.array([[1,2],[3,4]])\n",
    "print(matrix)\n",
    "print(\"Determinant:\",np.linalg.det(matrix))\n",
    "print(\"inverse:\",np.linalg.inv(matrix))\n",
    "print(\"Rank:\",np.linalg.matrix_rank(matrix))\n",
    "eigenvalues,eigenvectors=np.linalg.eig(matrix)\n",
    "print(\"Eigen values & eigen vectors:\",eigenvalues,eigenvectors)\n",
    "print(\"Diagonal of matrix:\",matrix.diagonal())\n",
    "print(\"Transpose of matrix\",matrix.transpose())\n",
    "print(\"Trace of matrix\",matrix.trace())"
   ]
  },
  {
   "cell_type": "code",
   "execution_count": 20,
   "id": "19d71b2e",
   "metadata": {},
   "outputs": [
    {
     "name": "stdout",
     "output_type": "stream",
     "text": [
      "[[0.70265753 0.78253896 0.95091207]\n",
      " [0.88214869 0.23830537 0.05985322]]\n"
     ]
    }
   ],
   "source": [
    "print(np.random.rand(2,3))    #prints random decimals of the shape specified"
   ]
  },
  {
   "cell_type": "code",
   "execution_count": 23,
   "id": "ae7e8019",
   "metadata": {},
   "outputs": [
    {
     "name": "stdout",
     "output_type": "stream",
     "text": [
      "[[ 0]\n",
      " [-1]]\n"
     ]
    }
   ],
   "source": [
    "print(np.random.randint(-1,1,size=(2,1)))   #prints integers from specified range and shape"
   ]
  },
  {
   "cell_type": "code",
   "execution_count": 24,
   "id": "51c2f5c0",
   "metadata": {},
   "outputs": [
    {
     "name": "stdout",
     "output_type": "stream",
     "text": [
      "[[1. 0. 0. 0.]\n",
      " [0. 1. 0. 0.]\n",
      " [0. 0. 1. 0.]\n",
      " [0. 0. 0. 1.]]\n"
     ]
    }
   ],
   "source": [
    "print(np.identity(4))    #prints identity matrix of specified order"
   ]
  },
  {
   "cell_type": "code",
   "execution_count": 26,
   "id": "dba0cc06",
   "metadata": {},
   "outputs": [
    {
     "name": "stdout",
     "output_type": "stream",
     "text": [
      "[[1 2 3 4]\n",
      " [1 2 3 4]\n",
      " [1 2 3 4]\n",
      " [1 2 3 4]]\n"
     ]
    }
   ],
   "source": [
    "a=[[1,2,3,4]]\n",
    "array=np.array(a)                   #np.repeat(array,no of rows, axis of reference) - repeats that row specified no of times\n",
    "final=np.repeat(array,4,axis=0)\n",
    "print(final)"
   ]
  },
  {
   "cell_type": "code",
   "execution_count": null,
   "id": "d39a3df8",
   "metadata": {},
   "outputs": [],
   "source": []
  }
 ],
 "metadata": {
  "kernelspec": {
   "display_name": "Python 3",
   "language": "python",
   "name": "python3"
  },
  "language_info": {
   "codemirror_mode": {
    "name": "ipython",
    "version": 3
   },
   "file_extension": ".py",
   "mimetype": "text/x-python",
   "name": "python",
   "nbconvert_exporter": "python",
   "pygments_lexer": "ipython3",
   "version": "3.8.8"
  }
 },
 "nbformat": 4,
 "nbformat_minor": 5
}
